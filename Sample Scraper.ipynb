{
 "cells": [
  {
   "cell_type": "markdown",
   "metadata": {},
   "source": [
    "### TO DO\n",
    "- Add images for each card - https://pkmncards.com/card/alakazam-legendary-collection-lc-1/\n",
    "- Card condition handling (shadowless, gym leaders, apostrophes/periods in name, ...)\n",
    "- integrate [pokellector](https://www.pokellector.com/card/Pikachu-VMAX-Vivid-Voltage-SWSH4-188) for \"detailed search\""
   ]
  },
  {
   "cell_type": "markdown",
   "metadata": {},
   "source": [
    "### Card condition handling\n",
    "There are many different \"types\" of cards, including but not limited to: first edition, shadowless, mega, ex, gym leaders (with apostophes/periods in the name). All these will have to be cased for in order for us to hit the right endpoint with our function. Below is a list of all card \"types\" -> and how the url \"appears\" on price charting\n",
    "\n",
    "##### Typical\n",
    "- Card #_ -> /card-_\n",
    "- Card [1st Edition] #_ -> /card-1st-edition-_\n",
    "- Card [Shadowless] #_ -> /card-shadowless-_\n",
    "- Car'd #_ -> /car%27d-#\n",
    "- Ca.rd #_ -> /ca-rd-#\n",
    "\n",
    "##### Atypical\n",
    "- Card [Trainer Deck A/B] #_ (base set)\n",
    "- Card [E3 Red Cheeks] #_ (base set pikachu)\n",
    "- Card [1st Edition Red Cheeks] #_ (base set pikachu)\n",
    "- Card [Shadowless Red Cheeks] #_ (base set pikachu)\n",
    "- Card [Black Flame] #_ (base set ninetales)\n",
    "- Card [Gold Border] #_ (jungle meowth)\n",
    "- Card [W Stamp] #_ (jungle pikachu, base set 2 wartortle, team rocket dark charmeleon, ...)\n",
    "- Card [Prerelease] #_ (fossil aerodactyl)\n",
    "- Card [Prerelease Holo] #_ (team rocket dark gyarados)"
   ]
  },
  {
   "cell_type": "code",
   "execution_count": 4,
   "metadata": {},
   "outputs": [],
   "source": [
    "import requests\n",
    "from bs4 import BeautifulSoup\n",
    "import re\n",
    "import numpy as np\n",
    "import pandas as pd\n",
    "import warnings\n",
    "import os\n",
    "warnings.filterwarnings('ignore')"
   ]
  },
  {
   "cell_type": "markdown",
   "metadata": {},
   "source": [
    "Import set and card count excel"
   ]
  },
  {
   "cell_type": "code",
   "execution_count": 6,
   "metadata": {},
   "outputs": [
    {
     "data": {
      "text/html": [
       "<div>\n",
       "<style scoped>\n",
       "    .dataframe tbody tr th:only-of-type {\n",
       "        vertical-align: middle;\n",
       "    }\n",
       "\n",
       "    .dataframe tbody tr th {\n",
       "        vertical-align: top;\n",
       "    }\n",
       "\n",
       "    .dataframe thead th {\n",
       "        text-align: right;\n",
       "    }\n",
       "</style>\n",
       "<table border=\"1\" class=\"dataframe\">\n",
       "  <thead>\n",
       "    <tr style=\"text-align: right;\">\n",
       "      <th></th>\n",
       "      <th>Set Name</th>\n",
       "      <th>Card Count</th>\n",
       "    </tr>\n",
       "  </thead>\n",
       "  <tbody>\n",
       "    <tr>\n",
       "      <th>0</th>\n",
       "      <td>Base Set</td>\n",
       "      <td>102</td>\n",
       "    </tr>\n",
       "    <tr>\n",
       "      <th>1</th>\n",
       "      <td>Jungle</td>\n",
       "      <td>64</td>\n",
       "    </tr>\n",
       "    <tr>\n",
       "      <th>2</th>\n",
       "      <td>Fossil</td>\n",
       "      <td>62</td>\n",
       "    </tr>\n",
       "    <tr>\n",
       "      <th>3</th>\n",
       "      <td>Base Set 2</td>\n",
       "      <td>130</td>\n",
       "    </tr>\n",
       "    <tr>\n",
       "      <th>4</th>\n",
       "      <td>Team Rocket</td>\n",
       "      <td>82</td>\n",
       "    </tr>\n",
       "  </tbody>\n",
       "</table>\n",
       "</div>"
      ],
      "text/plain": [
       "      Set Name  Card Count\n",
       "0     Base Set         102\n",
       "1       Jungle          64\n",
       "2       Fossil          62\n",
       "3   Base Set 2         130\n",
       "4  Team Rocket          82"
      ]
     },
     "execution_count": 6,
     "metadata": {},
     "output_type": "execute_result"
    }
   ],
   "source": [
    "df = pd.read_excel('Set_and_Card_Ct.xlsx', index_col=0)\n",
    "df.head()"
   ]
  },
  {
   "cell_type": "markdown",
   "metadata": {},
   "source": [
    "### Define the card input function - quick mode!"
   ]
  },
  {
   "cell_type": "code",
   "execution_count": 7,
   "metadata": {},
   "outputs": [],
   "source": [
    "card_db = pd.DataFrame()\n",
    "\n",
    "def card_value():\n",
    "    tmp_row = pd.DataFrame()  # to be appended to card_db\n",
    "    \n",
    "    card_name_full = input(\"Enter the Pokemon name EXACTLY as shown (ex. Charizard ex): \")\n",
    "    card_and_set_num = input(\"Enter the card number and set number found at the bottom of the card \\\n",
    "                        Exactly as shown (ex. 4/130): \")\n",
    "#     card_feats = input(\"Does the card have any special features - EX, G LV X, First Edition, Shadowless? \")\n",
    "#     card_mega = input(\"Is the card a Mega Evolution? \")\n",
    "#     return card_name_full, card_and_set_num #, card_feats, card_mega\n",
    "    card_num = card_and_set_num.split('/')[0]\n",
    "    set_num = int(card_and_set_num.split('/')[1])\n",
    "    \n",
    "    # determine which set(s) correspond to the the card count\n",
    "    potential_sets = [el.replace(' ','-') for el in list(df[df['Card Count'] == set_num]['Set Name'])]\n",
    "\n",
    "    url_list = [f\"https://www.pricecharting.com/game/pokemon-{set_}/{card_name_full}-{card_num}\"\n",
    "                for set_ in potential_sets]\n",
    "    for url in url_list:\n",
    "        r = requests.get(url, verify=False)\n",
    "        soup = BeautifulSoup(r.text, \"html.parser\")\n",
    "        try:\n",
    "            price = [el.text.strip() for el in soup.select('#used_price > .js-price')][0]\n",
    "        except: pass\n",
    "    print(f'Your {card_name_full.title()}, ungraded, is worth up to {price}!')\n",
    "    \n",
    "#     # append to card db\n",
    "#     tmp_row['Card Name'] = card_name_full.title()\n",
    "#     tmp_row['Card and Set Number'] = card_and_set_num\n",
    "#     tmp_row['Est. Ungraded Price'] = f'${price}'\n",
    "#     card_db.append(tmp_row)"
   ]
  },
  {
   "cell_type": "code",
   "execution_count": 8,
   "metadata": {},
   "outputs": [
    {
     "name": "stdout",
     "output_type": "stream",
     "text": [
      "Enter the Pokemon name EXACTLY as shown (ex. Charizard ex): lugia\n",
      "Enter the card number and set number found at the bottom of the card                         Exactly as shown (ex. 4/130): 9/111\n",
      "Your Lugia, ungraded, is worth up to $131.10!\n"
     ]
    }
   ],
   "source": [
    "card_value()"
   ]
  },
  {
   "cell_type": "code",
   "execution_count": null,
   "metadata": {},
   "outputs": [],
   "source": [
    "'''\n",
    "entry: charizard 4/102 first edition ...\n",
    "check: 102 could be base set, ...\n",
    "    - is charizard 4 in base set, other set, ...?\n",
    "    - YES it's in base set, use base set url to find price on pricecharting\n",
    "    - NO, invalid entry\n",
    "    \n",
    "    - selenium to go to pricecharting/<set name> and pull in each card for a set. \n",
    "    \"Charizard #4 shadowless\", \"Mewtwo #10\", ... and do a left join on the set name\n",
    "'''"
   ]
  }
 ],
 "metadata": {
  "kernelspec": {
   "display_name": "Python 3",
   "language": "python",
   "name": "python3"
  },
  "language_info": {
   "codemirror_mode": {
    "name": "ipython",
    "version": 3
   },
   "file_extension": ".py",
   "mimetype": "text/x-python",
   "name": "python",
   "nbconvert_exporter": "python",
   "pygments_lexer": "ipython3",
   "version": "3.8.3"
  }
 },
 "nbformat": 4,
 "nbformat_minor": 4
}
